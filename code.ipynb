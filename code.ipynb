{
 "cells": [
  {
   "cell_type": "code",
   "execution_count": 4,
   "metadata": {},
   "outputs": [],
   "source": [
    "\n",
    "import cv2\n",
    "import numpy as np\n",
    "import time"
   ]
  },
  {
   "cell_type": "code",
   "execution_count": 5,
   "metadata": {},
   "outputs": [],
   "source": [
    "cap = cv2.VideoCapture(0)\n",
    "time.sleep(3)\n",
    "\n",
    "background = 0\n",
    "for i in range(30):\n",
    "    ret, background = cap.read()\n",
    "\n",
    "background = np.flip(background, axis = 1)"
   ]
  },
  {
   "cell_type": "code",
   "execution_count": null,
   "metadata": {},
   "outputs": [
    {
     "ename": "KeyboardInterrupt",
     "evalue": "",
     "output_type": "error",
     "traceback": [
      "\u001b[1;31m---------------------------------------------------------------------------\u001b[0m",
      "\u001b[1;31mKeyboardInterrupt\u001b[0m                         Traceback (most recent call last)",
      "Cell \u001b[1;32mIn[7], line 30\u001b[0m\n\u001b[0;32m     28\u001b[0m img[np\u001b[38;5;241m.\u001b[39mwhere(mask\u001b[38;5;241m==\u001b[39m\u001b[38;5;241m255\u001b[39m)] \u001b[38;5;241m=\u001b[39m background[np\u001b[38;5;241m.\u001b[39mwhere(mask\u001b[38;5;241m==\u001b[39m\u001b[38;5;241m255\u001b[39m)]\n\u001b[0;32m     29\u001b[0m cv2\u001b[38;5;241m.\u001b[39mimshow(\u001b[38;5;124m'\u001b[39m\u001b[38;5;124mDisplay\u001b[39m\u001b[38;5;124m'\u001b[39m,img)\n\u001b[1;32m---> 30\u001b[0m k \u001b[38;5;241m=\u001b[39m \u001b[43mcv2\u001b[49m\u001b[38;5;241;43m.\u001b[39;49m\u001b[43mwaitKey\u001b[49m\u001b[43m(\u001b[49m\u001b[38;5;241;43m10\u001b[39;49m\u001b[43m)\u001b[49m\n\u001b[0;32m     31\u001b[0m \u001b[38;5;28;01mif\u001b[39;00m k \u001b[38;5;241m==\u001b[39m \u001b[38;5;241m27\u001b[39m:\n\u001b[0;32m     32\u001b[0m \t\u001b[38;5;28;01mbreak\u001b[39;00m\n",
      "\u001b[1;31mKeyboardInterrupt\u001b[0m: "
     ]
    },
    {
     "ename": "",
     "evalue": "",
     "output_type": "error",
     "traceback": [
      "\u001b[1;31mThe Kernel crashed while executing code in the current cell or a previous cell. \n",
      "\u001b[1;31mPlease review the code in the cell(s) to identify a possible cause of the failure. \n",
      "\u001b[1;31mClick <a href='https://aka.ms/vscodeJupyterKernelCrash'>here</a> for more info. \n",
      "\u001b[1;31mView Jupyter <a href='command:jupyter.viewOutput'>log</a> for further details."
     ]
    }
   ],
   "source": [
    "while(cap.isOpened()):\n",
    "\tret, img = cap.read()\n",
    "\t\n",
    "\t# Flipping the image (Can be uncommented if needed)\n",
    "\timg = np.flip(img,axis=1)\n",
    "\t\n",
    "\t# Converting image to HSV color space.\n",
    "\thsv = cv2.cvtColor(img, cv2.COLOR_BGR2HSV)\n",
    "\tvalue = (35, 35)\n",
    "\t\n",
    "\tblurred = cv2.GaussianBlur(hsv, value,0)\n",
    "\t\n",
    "\t# Defining lower range for red color detection.\n",
    "\tlower_red = np.array([0,120,70])\n",
    "\tupper_red = np.array([10,255,255])\n",
    "\tmask1 = cv2.inRange(hsv,lower_red,upper_red)\n",
    "\t\n",
    "\t# Defining upper range for red color detection\n",
    "\tlower_red = np.array([170,120,70])\n",
    "\tupper_red = np.array([180,255,255])\n",
    "\tmask2 = cv2.inRange(hsv,lower_red,upper_red)\n",
    "\t\n",
    "\t# Addition of the two masks to generate the final mask.\n",
    "\tmask = mask1+mask2\n",
    "\tmask = cv2.morphologyEx(mask, cv2.MORPH_OPEN, np.ones((5,5),np.uint8))\n",
    "\t\n",
    "\t# Replacing pixels corresponding to cloak with the background pixels.\n",
    "\timg[np.where(mask==255)] = background[np.where(mask==255)]\n",
    "\tcv2.imshow('Display',img)\n",
    "\tk = cv2.waitKey(10)\n",
    "\tif k == 27:\n",
    "\t\tbreak\n"
   ]
  }
 ],
 "metadata": {
  "kernelspec": {
   "display_name": "Python 3",
   "language": "python",
   "name": "python3"
  },
  "language_info": {
   "codemirror_mode": {
    "name": "ipython",
    "version": 3
   },
   "file_extension": ".py",
   "mimetype": "text/x-python",
   "name": "python",
   "nbconvert_exporter": "python",
   "pygments_lexer": "ipython3",
   "version": "3.12.4"
  }
 },
 "nbformat": 4,
 "nbformat_minor": 2
}
